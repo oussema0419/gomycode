{
 "cells": [
  {
   "cell_type": "code",
   "execution_count": 3,
   "id": "5f1a70d5",
   "metadata": {},
   "outputs": [
    {
     "ename": "SyntaxError",
     "evalue": "invalid syntax (<ipython-input-3-3cb5c569c639>, line 29)",
     "output_type": "error",
     "traceback": [
      "\u001b[1;36m  File \u001b[1;32m\"<ipython-input-3-3cb5c569c639>\"\u001b[1;36m, line \u001b[1;32m29\u001b[0m\n\u001b[1;33m    question 3 et 5 c la meme\u001b[0m\n\u001b[1;37m             ^\u001b[0m\n\u001b[1;31mSyntaxError\u001b[0m\u001b[1;31m:\u001b[0m invalid syntax\n"
     ]
    }
   ],
   "source": [
    "with open(\"test.txt\",'w',encoding = 'utf-8') as f:\n",
    "    f.write(\"my first file. \")\n",
    "    f.write(\"This file do \")\n",
    "    f.write(\"contains three lines\")\n",
    "f = open(\"test.txt\",'r',encoding = 'utf-8')\n",
    "f.read()\n",
    "...\n",
    "f = open(\"test.txt\",'r',encoding = 'utf-8')\n",
    "n = int(input())\n",
    "f.read(n)\n",
    "...\n",
    "n1 = int(input())\n",
    "def read_lastnlines(fname,n):\n",
    "    with open('test.txt') as f:\n",
    "        for line in (f.readlines() [-n:]):\n",
    "            print(line)\n",
    "#code doesn't give out anything because the text file is only one line\n",
    "read_lastnlines('test.txt',n1)\n",
    "...\n",
    "print(\"choose your file path or file\")\n",
    "a = input()\n",
    "def count_words(filepath):\n",
    "    with open(filepath) as d:\n",
    "        data = d.read()\n",
    "        data.replace(\",\", \" \")\n",
    "        return len(data.split(\" \"))\n",
    "print(count_words(a))\n",
    "...\n",
    "question 3 et 5 c la meme\n",
    "...\n",
    "n1 = int(input())\n",
    "def read_lastnlines(fname,n):\n",
    "    with open('test.txt') as f:\n",
    "        for line in (f.readlines() [-n:]):\n",
    "            print(line)\n",
    "#code doesn't give out anything because the text file is only one line\n",
    "read_lastnlines('test.txt',n1)"
   ]
  }
 ],
 "metadata": {
  "kernelspec": {
   "display_name": "Python 3",
   "language": "python",
   "name": "python3"
  },
  "language_info": {
   "codemirror_mode": {
    "name": "ipython",
    "version": 3
   },
   "file_extension": ".py",
   "mimetype": "text/x-python",
   "name": "python",
   "nbconvert_exporter": "python",
   "pygments_lexer": "ipython3",
   "version": "3.8.8"
  }
 },
 "nbformat": 4,
 "nbformat_minor": 5
}
