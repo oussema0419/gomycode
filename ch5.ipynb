{
 "cells": [
  {
   "cell_type": "code",
   "execution_count": 2,
   "id": "66235366",
   "metadata": {},
   "outputs": [
    {
     "name": "stdout",
     "output_type": "stream",
     "text": [
      "(1, 2, 3)\n"
     ]
    }
   ],
   "source": [
    "class point3D(object):\n",
    "    def __init__(self, x, y, z):\n",
    "       self.x = x\n",
    "       self.y = y\n",
    "       self.z = z\n",
    "    def __repr__(self):\n",
    "        return \"(%d, %d, %d)\" % (self.x, self.y, self.z)\n",
    "    \n",
    "my_point = point3D(1,2,3)\n",
    "\n",
    "print (my_point)\n",
    "        \n",
    "    "
   ]
  },
  {
   "cell_type": "code",
   "execution_count": 4,
   "id": "6587d69f",
   "metadata": {},
   "outputs": [
    {
     "name": "stdout",
     "output_type": "stream",
     "text": [
      "14\n"
     ]
    }
   ],
   "source": [
    "class rectangle:\n",
    "    def __init__(self, width, length):\n",
    "        self.length = length\n",
    "        self.width = width\n",
    "        \n",
    "    def calculate_perimeter(self):\n",
    "        \n",
    "        return 2 * (self.width + self.length)\n",
    "\n",
    "rectangle_1 = rectangle(3, 4)\n",
    "\n",
    "print (rectangle_1.calculate_perimeter())"
   ]
  },
  {
   "cell_type": "code",
   "execution_count": 6,
   "id": "9691857e",
   "metadata": {},
   "outputs": [
    {
     "name": "stdout",
     "output_type": "stream",
     "text": [
      "enter radius of circle: 7\n",
      "Area of circle: 153.94\n",
      "preimeter of circle:\n"
     ]
    },
    {
     "data": {
      "text/plain": [
       "(None, 43.98)"
      ]
     },
     "execution_count": 6,
     "metadata": {},
     "output_type": "execute_result"
    }
   ],
   "source": [
    "import math\n",
    "class circle():\n",
    "    def __init__(self,radius):\n",
    "        self.radius=radius\n",
    "    def area(self):\n",
    "        return math.pi*(self.radius**2)\n",
    "    def preimeter(self):\n",
    "        return 2*math.pi*self.radius\n",
    "    \n",
    "r=int(input(\"enter radius of circle: \"))\n",
    "obj=circle(r)\n",
    "\n",
    "print(\"Area of circle:\",round(obj.area(),2))\n",
    "print(\"preimeter of circle:\"),round(obj.preimeter(),2)"
   ]
  },
  {
   "cell_type": "code",
   "execution_count": 15,
   "id": "c4937276",
   "metadata": {},
   "outputs": [
    {
     "ename": "IndentationError",
     "evalue": "unindent does not match any outer indentation level (<tokenize>, line 23)",
     "output_type": "error",
     "traceback": [
      "\u001b[1;36m  File \u001b[1;32m\"<tokenize>\"\u001b[1;36m, line \u001b[1;32m23\u001b[0m\n\u001b[1;33m    s = Bank_Account()\u001b[0m\n\u001b[1;37m    ^\u001b[0m\n\u001b[1;31mIndentationError\u001b[0m\u001b[1;31m:\u001b[0m unindent does not match any outer indentation level\n"
     ]
    }
   ],
   "source": [
    "class bank_account:\n",
    "    def __init__(self):\n",
    "        self.balance=0\n",
    "        print(\"hello!!! welcome to the deposit & withdrawal machone\")\n",
    "        \n",
    "    def deposit(self):\n",
    "        amount=float(input(\"enter amount to be desposited: \"))\n",
    "        self.balance += amount\n",
    "        print(\"\\n amount desposited:\", amount)\n",
    "        \n",
    "    def withdraw(self):\n",
    "        amount = float(input(\"enter amount to be withdraw:\"))\n",
    "        if self.balance>=amount:\n",
    "            self.balance-=amount\n",
    "            print(\"\\n you withdraw:\", amount)\n",
    "        else:\n",
    "            print(\"\\insuficient balance \")\n",
    "    def display(self):\n",
    "\n",
    "        print(\"\\n net available balance=\",self.balance)\n",
    "\n",
    "\n",
    " s = Bank_Account()\n",
    "\n",
    "\n",
    "\n",
    "s.deposit()\n",
    "s.withdraw()\n",
    "s.display()\n",
    "\n"
   ]
  },
  {
   "cell_type": "code",
   "execution_count": null,
   "id": "1ba8f1f9",
   "metadata": {},
   "outputs": [],
   "source": []
  },
  {
   "cell_type": "code",
   "execution_count": null,
   "id": "090a6ca9",
   "metadata": {},
   "outputs": [],
   "source": []
  },
  {
   "cell_type": "code",
   "execution_count": null,
   "id": "1f91f237",
   "metadata": {},
   "outputs": [],
   "source": []
  },
  {
   "cell_type": "code",
   "execution_count": null,
   "id": "9f77e70c",
   "metadata": {},
   "outputs": [],
   "source": []
  },
  {
   "cell_type": "code",
   "execution_count": null,
   "id": "a3897c0c",
   "metadata": {},
   "outputs": [],
   "source": []
  }
 ],
 "metadata": {
  "kernelspec": {
   "display_name": "Python 3",
   "language": "python",
   "name": "python3"
  },
  "language_info": {
   "codemirror_mode": {
    "name": "ipython",
    "version": 3
   },
   "file_extension": ".py",
   "mimetype": "text/x-python",
   "name": "python",
   "nbconvert_exporter": "python",
   "pygments_lexer": "ipython3",
   "version": "3.8.8"
  }
 },
 "nbformat": 4,
 "nbformat_minor": 5
}
